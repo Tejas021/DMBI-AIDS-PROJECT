{
 "cells": [
  {
   "cell_type": "markdown",
   "id": "0208e00f",
   "metadata": {},
   "source": [
    "<h2>Importing Dependencies</h2>"
   ]
  },
  {
   "cell_type": "code",
   "execution_count": 1,
   "id": "66a7aff0",
   "metadata": {},
   "outputs": [],
   "source": [
    "import numpy as np\n",
    "import pandas as pd\n",
    "import matplotlib.pyplot as plt\n",
    "import seaborn as sns\n",
    "from sklearn.model_selection import train_test_split\n",
    "from sklearn.linear_model import LinearRegression\n",
    "from sklearn import metrics"
   ]
  },
  {
   "cell_type": "markdown",
   "id": "db5b7090",
   "metadata": {},
   "source": [
    "<h2>Loading DataSet</h2>"
   ]
  },
  {
   "cell_type": "code",
   "execution_count": 2,
   "id": "631a4c53",
   "metadata": {},
   "outputs": [
    {
     "data": {
      "text/html": [
       "<div>\n",
       "<style scoped>\n",
       "    .dataframe tbody tr th:only-of-type {\n",
       "        vertical-align: middle;\n",
       "    }\n",
       "\n",
       "    .dataframe tbody tr th {\n",
       "        vertical-align: top;\n",
       "    }\n",
       "\n",
       "    .dataframe thead th {\n",
       "        text-align: right;\n",
       "    }\n",
       "</style>\n",
       "<table border=\"1\" class=\"dataframe\">\n",
       "  <thead>\n",
       "    <tr style=\"text-align: right;\">\n",
       "      <th></th>\n",
       "      <th>age</th>\n",
       "      <th>sex</th>\n",
       "      <th>bmi</th>\n",
       "      <th>children</th>\n",
       "      <th>smoker</th>\n",
       "      <th>region</th>\n",
       "      <th>charges</th>\n",
       "    </tr>\n",
       "  </thead>\n",
       "  <tbody>\n",
       "    <tr>\n",
       "      <th>0</th>\n",
       "      <td>19</td>\n",
       "      <td>female</td>\n",
       "      <td>27.900</td>\n",
       "      <td>0</td>\n",
       "      <td>yes</td>\n",
       "      <td>southwest</td>\n",
       "      <td>16884.92400</td>\n",
       "    </tr>\n",
       "    <tr>\n",
       "      <th>1</th>\n",
       "      <td>18</td>\n",
       "      <td>male</td>\n",
       "      <td>33.770</td>\n",
       "      <td>1</td>\n",
       "      <td>no</td>\n",
       "      <td>southeast</td>\n",
       "      <td>1725.55230</td>\n",
       "    </tr>\n",
       "    <tr>\n",
       "      <th>2</th>\n",
       "      <td>28</td>\n",
       "      <td>male</td>\n",
       "      <td>33.000</td>\n",
       "      <td>3</td>\n",
       "      <td>no</td>\n",
       "      <td>southeast</td>\n",
       "      <td>4449.46200</td>\n",
       "    </tr>\n",
       "    <tr>\n",
       "      <th>3</th>\n",
       "      <td>33</td>\n",
       "      <td>male</td>\n",
       "      <td>22.705</td>\n",
       "      <td>0</td>\n",
       "      <td>no</td>\n",
       "      <td>northwest</td>\n",
       "      <td>21984.47061</td>\n",
       "    </tr>\n",
       "    <tr>\n",
       "      <th>4</th>\n",
       "      <td>32</td>\n",
       "      <td>male</td>\n",
       "      <td>28.880</td>\n",
       "      <td>0</td>\n",
       "      <td>no</td>\n",
       "      <td>northwest</td>\n",
       "      <td>3866.85520</td>\n",
       "    </tr>\n",
       "  </tbody>\n",
       "</table>\n",
       "</div>"
      ],
      "text/plain": [
       "   age     sex     bmi  children smoker     region      charges\n",
       "0   19  female  27.900         0    yes  southwest  16884.92400\n",
       "1   18    male  33.770         1     no  southeast   1725.55230\n",
       "2   28    male  33.000         3     no  southeast   4449.46200\n",
       "3   33    male  22.705         0     no  northwest  21984.47061\n",
       "4   32    male  28.880         0     no  northwest   3866.85520"
      ]
     },
     "execution_count": 2,
     "metadata": {},
     "output_type": "execute_result"
    }
   ],
   "source": [
    "insurance_dataset = pd.read_csv('insurance.csv')\n",
    "insurance_dataset.head()"
   ]
  },
  {
   "cell_type": "code",
   "execution_count": 3,
   "id": "2553c314",
   "metadata": {},
   "outputs": [
    {
     "data": {
      "text/plain": [
       "(1338, 7)"
      ]
     },
     "execution_count": 3,
     "metadata": {},
     "output_type": "execute_result"
    }
   ],
   "source": [
    "insurance_dataset.shape"
   ]
  },
  {
   "cell_type": "markdown",
   "id": "bd4e1621",
   "metadata": {},
   "source": [
    "<h2>Data Analysis and Visualizaiton</h2>"
   ]
  },
  {
   "cell_type": "code",
   "execution_count": 4,
   "id": "253025d1",
   "metadata": {},
   "outputs": [
    {
     "name": "stdout",
     "output_type": "stream",
     "text": [
      "<class 'pandas.core.frame.DataFrame'>\n",
      "RangeIndex: 1338 entries, 0 to 1337\n",
      "Data columns (total 7 columns):\n",
      " #   Column    Non-Null Count  Dtype  \n",
      "---  ------    --------------  -----  \n",
      " 0   age       1338 non-null   int64  \n",
      " 1   sex       1338 non-null   object \n",
      " 2   bmi       1338 non-null   float64\n",
      " 3   children  1338 non-null   int64  \n",
      " 4   smoker    1338 non-null   object \n",
      " 5   region    1338 non-null   object \n",
      " 6   charges   1338 non-null   float64\n",
      "dtypes: float64(2), int64(2), object(3)\n",
      "memory usage: 73.3+ KB\n"
     ]
    }
   ],
   "source": [
    "insurance_dataset.info()"
   ]
  },
  {
   "cell_type": "code",
   "execution_count": 5,
   "id": "7e86fec9",
   "metadata": {},
   "outputs": [
    {
     "data": {
      "text/plain": [
       "age         0\n",
       "sex         0\n",
       "bmi         0\n",
       "children    0\n",
       "smoker      0\n",
       "region      0\n",
       "charges     0\n",
       "dtype: int64"
      ]
     },
     "execution_count": 5,
     "metadata": {},
     "output_type": "execute_result"
    }
   ],
   "source": [
    "insurance_dataset.isnull().sum()"
   ]
  },
  {
   "cell_type": "code",
   "execution_count": 6,
   "id": "402bfc4f",
   "metadata": {},
   "outputs": [
    {
     "data": {
      "text/html": [
       "<div>\n",
       "<style scoped>\n",
       "    .dataframe tbody tr th:only-of-type {\n",
       "        vertical-align: middle;\n",
       "    }\n",
       "\n",
       "    .dataframe tbody tr th {\n",
       "        vertical-align: top;\n",
       "    }\n",
       "\n",
       "    .dataframe thead th {\n",
       "        text-align: right;\n",
       "    }\n",
       "</style>\n",
       "<table border=\"1\" class=\"dataframe\">\n",
       "  <thead>\n",
       "    <tr style=\"text-align: right;\">\n",
       "      <th></th>\n",
       "      <th>age</th>\n",
       "      <th>bmi</th>\n",
       "      <th>children</th>\n",
       "      <th>charges</th>\n",
       "    </tr>\n",
       "  </thead>\n",
       "  <tbody>\n",
       "    <tr>\n",
       "      <th>count</th>\n",
       "      <td>1338.000000</td>\n",
       "      <td>1338.000000</td>\n",
       "      <td>1338.000000</td>\n",
       "      <td>1338.000000</td>\n",
       "    </tr>\n",
       "    <tr>\n",
       "      <th>mean</th>\n",
       "      <td>39.207025</td>\n",
       "      <td>30.663397</td>\n",
       "      <td>1.094918</td>\n",
       "      <td>13270.422265</td>\n",
       "    </tr>\n",
       "    <tr>\n",
       "      <th>std</th>\n",
       "      <td>14.049960</td>\n",
       "      <td>6.098187</td>\n",
       "      <td>1.205493</td>\n",
       "      <td>12110.011237</td>\n",
       "    </tr>\n",
       "    <tr>\n",
       "      <th>min</th>\n",
       "      <td>18.000000</td>\n",
       "      <td>15.960000</td>\n",
       "      <td>0.000000</td>\n",
       "      <td>1121.873900</td>\n",
       "    </tr>\n",
       "    <tr>\n",
       "      <th>25%</th>\n",
       "      <td>27.000000</td>\n",
       "      <td>26.296250</td>\n",
       "      <td>0.000000</td>\n",
       "      <td>4740.287150</td>\n",
       "    </tr>\n",
       "    <tr>\n",
       "      <th>50%</th>\n",
       "      <td>39.000000</td>\n",
       "      <td>30.400000</td>\n",
       "      <td>1.000000</td>\n",
       "      <td>9382.033000</td>\n",
       "    </tr>\n",
       "    <tr>\n",
       "      <th>75%</th>\n",
       "      <td>51.000000</td>\n",
       "      <td>34.693750</td>\n",
       "      <td>2.000000</td>\n",
       "      <td>16639.912515</td>\n",
       "    </tr>\n",
       "    <tr>\n",
       "      <th>max</th>\n",
       "      <td>64.000000</td>\n",
       "      <td>53.130000</td>\n",
       "      <td>5.000000</td>\n",
       "      <td>63770.428010</td>\n",
       "    </tr>\n",
       "  </tbody>\n",
       "</table>\n",
       "</div>"
      ],
      "text/plain": [
       "               age          bmi     children       charges\n",
       "count  1338.000000  1338.000000  1338.000000   1338.000000\n",
       "mean     39.207025    30.663397     1.094918  13270.422265\n",
       "std      14.049960     6.098187     1.205493  12110.011237\n",
       "min      18.000000    15.960000     0.000000   1121.873900\n",
       "25%      27.000000    26.296250     0.000000   4740.287150\n",
       "50%      39.000000    30.400000     1.000000   9382.033000\n",
       "75%      51.000000    34.693750     2.000000  16639.912515\n",
       "max      64.000000    53.130000     5.000000  63770.428010"
      ]
     },
     "execution_count": 6,
     "metadata": {},
     "output_type": "execute_result"
    }
   ],
   "source": [
    "insurance_dataset.describe()"
   ]
  },
  {
   "cell_type": "code",
   "execution_count": 7,
   "id": "9a030b2f",
   "metadata": {},
   "outputs": [
    {
     "name": "stderr",
     "output_type": "stream",
     "text": [
      "C:\\Users\\admin\\AppData\\Local\\Programs\\Python\\Python310\\lib\\site-packages\\seaborn\\distributions.py:2619: FutureWarning: `distplot` is a deprecated function and will be removed in a future version. Please adapt your code to use either `displot` (a figure-level function with similar flexibility) or `histplot` (an axes-level function for histograms).\n",
      "  warnings.warn(msg, FutureWarning)\n"
     ]
    },
    {
     "data": {
      "image/png": "[encoded data removed]",
      "text/plain": [
       "<Figure size 432x432 with 1 Axes>"
      ]
     },
     "metadata": {},
     "output_type": "display_data"
    }
   ],
   "source": [
    "sns.set()\n",
    "plt.figure(figsize=(6,6))\n",
    "sns.distplot(insurance_dataset['age'])\n",
    "plt.title('Age Distribution')\n",
    "plt.show()"
   ]
  },
  {
   "cell_type": "code",
   "execution_count": 8,
   "id": "1dd34ffd",
   "metadata": {},
   "outputs": [
    {
     "data": {
      "image/png": "[encoded data removed]",
      "text/plain": [
       "<Figure size 432x432 with 1 Axes>"
      ]
     },
     "metadata": {},
     "output_type": "display_data"
    }
   ],
   "source": [
    "plt.figure(figsize=(6,6))\n",
    "sns.countplot(x='sex', data=insurance_dataset)\n",
    "plt.title('Sex Distribution')\n",
    "plt.show()"
   ]
  },
  {
   "cell_type": "code",
   "execution_count": 9,
   "id": "3acfcff3",
   "metadata": {},
   "outputs": [
    {
     "name": "stderr",
     "output_type": "stream",
     "text": [
      "C:\\Users\\admin\\AppData\\Local\\Programs\\Python\\Python310\\lib\\site-packages\\seaborn\\distributions.py:2619: FutureWarning: `distplot` is a deprecated function and will be removed in a future version. Please adapt your code to use either `displot` (a figure-level function with similar flexibility) or `histplot` (an axes-level function for histograms).\n",
      "  warnings.warn(msg, FutureWarning)\n"
     ]
    },
    {
     "data": {
      "image/png": "[encoded data removed]",
      "text/plain": [
       "<Figure size 432x432 with 1 Axes>"
      ]
     },
     "metadata": {},
     "output_type": "display_data"
    }
   ],
   "source": [
    "plt.figure(figsize=(6,6))\n",
    "sns.distplot(insurance_dataset['bmi'])\n",
    "plt.title('BMI Distribution')\n",
    "plt.show()"
   ]
  },
  {
   "cell_type": "code",
   "execution_count": 10,
   "id": "34ea2d86",
   "metadata": {},
   "outputs": [
    {
     "data": {
      "image/png": "[encoded data removed]",
      "text/plain": [
       "<Figure size 432x432 with 1 Axes>"
      ]
     },
     "metadata": {},
     "output_type": "display_data"
    }
   ],
   "source": [
    "plt.figure(figsize=(6,6))\n",
    "sns.countplot(x='children', data=insurance_dataset)\n",
    "plt.title('Children')\n",
    "plt.show()"
   ]
  },
  {
   "cell_type": "code",
   "execution_count": 11,
   "id": "34436954",
   "metadata": {},
   "outputs": [
    {
     "data": {
      "image/png": "[encoded data removed]",
      "text/plain": [
       "<Figure size 432x432 with 1 Axes>"
      ]
     },
     "metadata": {},
     "output_type": "display_data"
    }
   ],
   "source": [
    "plt.figure(figsize=(6,6))\n",
    "sns.countplot(x='smoker', data=insurance_dataset)\n",
    "plt.title('smoker')\n",
    "plt.show()"
   ]
  },
  {
   "cell_type": "markdown",
   "id": "368a4c01",
   "metadata": {},
   "source": [
    "<h2>Data Preprocessing and encoding</h2>"
   ]
  },
  {
   "cell_type": "code",
   "execution_count": 13,
   "id": "414f4eee",
   "metadata": {},
   "outputs": [
    {
     "name": "stdout",
     "output_type": "stream",
     "text": [
      "(1337, 7)\n",
      "False\n",
      "0       False\n",
      "1       False\n",
      "2       False\n",
      "3       False\n",
      "4       False\n",
      "        ...  \n",
      "1333    False\n",
      "1334    False\n",
      "1335    False\n",
      "1336    False\n",
      "1337    False\n",
      "Length: 1337, dtype: bool\n",
      "(1337, 7)\n"
     ]
    },
    {
     "data": {
      "text/html": [
       "<div>\n",
       "<style scoped>\n",
       "    .dataframe tbody tr th:only-of-type {\n",
       "        vertical-align: middle;\n",
       "    }\n",
       "\n",
       "    .dataframe tbody tr th {\n",
       "        vertical-align: top;\n",
       "    }\n",
       "\n",
       "    .dataframe thead th {\n",
       "        text-align: right;\n",
       "    }\n",
       "</style>\n",
       "<table border=\"1\" class=\"dataframe\">\n",
       "  <thead>\n",
       "    <tr style=\"text-align: right;\">\n",
       "      <th></th>\n",
       "      <th>age</th>\n",
       "      <th>sex</th>\n",
       "      <th>bmi</th>\n",
       "      <th>children</th>\n",
       "      <th>smoker</th>\n",
       "      <th>region</th>\n",
       "      <th>charges</th>\n",
       "    </tr>\n",
       "  </thead>\n",
       "  <tbody>\n",
       "    <tr>\n",
       "      <th>0</th>\n",
       "      <td>19</td>\n",
       "      <td>0</td>\n",
       "      <td>27.900</td>\n",
       "      <td>0</td>\n",
       "      <td>1</td>\n",
       "      <td>0</td>\n",
       "      <td>16884.92400</td>\n",
       "    </tr>\n",
       "    <tr>\n",
       "      <th>1</th>\n",
       "      <td>18</td>\n",
       "      <td>1</td>\n",
       "      <td>33.770</td>\n",
       "      <td>1</td>\n",
       "      <td>0</td>\n",
       "      <td>3</td>\n",
       "      <td>1725.55230</td>\n",
       "    </tr>\n",
       "    <tr>\n",
       "      <th>2</th>\n",
       "      <td>28</td>\n",
       "      <td>1</td>\n",
       "      <td>33.000</td>\n",
       "      <td>3</td>\n",
       "      <td>0</td>\n",
       "      <td>3</td>\n",
       "      <td>4449.46200</td>\n",
       "    </tr>\n",
       "    <tr>\n",
       "      <th>3</th>\n",
       "      <td>33</td>\n",
       "      <td>1</td>\n",
       "      <td>22.705</td>\n",
       "      <td>0</td>\n",
       "      <td>0</td>\n",
       "      <td>1</td>\n",
       "      <td>21984.47061</td>\n",
       "    </tr>\n",
       "    <tr>\n",
       "      <th>4</th>\n",
       "      <td>32</td>\n",
       "      <td>1</td>\n",
       "      <td>28.880</td>\n",
       "      <td>0</td>\n",
       "      <td>0</td>\n",
       "      <td>1</td>\n",
       "      <td>3866.85520</td>\n",
       "    </tr>\n",
       "  </tbody>\n",
       "</table>\n",
       "</div>"
      ],
      "text/plain": [
       "   age  sex     bmi  children  smoker  region      charges\n",
       "0   19    0  27.900         0       1       0  16884.92400\n",
       "1   18    1  33.770         1       0       3   1725.55230\n",
       "2   28    1  33.000         3       0       3   4449.46200\n",
       "3   33    1  22.705         0       0       1  21984.47061\n",
       "4   32    1  28.880         0       0       1   3866.85520"
      ]
     },
     "execution_count": 13,
     "metadata": {},
     "output_type": "execute_result"
    }
   ],
   "source": [
    "new_df = insurance_dataset\n",
    "\n",
    "#REmove duplicates\n",
    "new_df.drop_duplicates(inplace = True)\n",
    "\n",
    "\n",
    "#Describing new dataframe - after removing duplicates\n",
    "print(new_df.shape)\n",
    "new_df.head()\n",
    "\n",
    "\n",
    "#Replacing string values with int\n",
    "new_df[\"sex\"].replace({\"male\":1, \"female\":0}, inplace = True)\n",
    "new_df.head()\n",
    "\n",
    "#Replacing string values with int\n",
    "new_df['region'].replace({'southwest':0,'northwest':1,'northeast':2,'southeast':3}, inplace = True)\n",
    "new_df['smoker'].replace({'yes':1,'no':0}, inplace = True)\n",
    "new_df.head() \n",
    "\n",
    "#Checking for null values\n",
    "new_df.isnull().sum()\n",
    "\n",
    "#Checking for duplicates\n",
    "print(new_df.duplicated().any())\n",
    "print(new_df.duplicated())\n",
    "\n",
    "#Describing data after preprocessing\n",
    "print(new_df.shape)\n",
    "new_df.head()"
   ]
  },
  {
   "cell_type": "code",
   "execution_count": 15,
   "id": "6268d1ec",
   "metadata": {},
   "outputs": [
    {
     "name": "stdout",
     "output_type": "stream",
     "text": [
      "      age  sex     bmi  children  smoker  region\n",
      "0      19    0  27.900         0       1       0\n",
      "1      18    1  33.770         1       0       3\n",
      "2      28    1  33.000         3       0       3\n",
      "3      33    1  22.705         0       0       1\n",
      "4      32    1  28.880         0       0       1\n",
      "...   ...  ...     ...       ...     ...     ...\n",
      "1333   50    1  30.970         3       0       1\n",
      "1334   18    0  31.920         0       0       2\n",
      "1335   18    0  36.850         0       0       3\n",
      "1336   21    0  25.800         0       0       0\n",
      "1337   61    0  29.070         0       1       1\n",
      "\n",
      "[1337 rows x 6 columns]\n",
      "0       16884.92400\n",
      "1        1725.55230\n",
      "2        4449.46200\n",
      "3       21984.47061\n",
      "4        3866.85520\n",
      "           ...     \n",
      "1333    10600.54830\n",
      "1334     2205.98080\n",
      "1335     1629.83350\n",
      "1336     2007.94500\n",
      "1337    29141.36030\n",
      "Name: charges, Length: 1337, dtype: float64\n"
     ]
    }
   ],
   "source": [
    "X = new_df.drop(columns='charges', axis=1)\n",
    "Y = new_df['charges']\n",
    "print(X)\n",
    "print(Y)"
   ]
  },
  {
   "cell_type": "markdown",
   "id": "66482a69",
   "metadata": {},
   "source": [
    "<h2>Train Test Spliting</h2>"
   ]
  },
  {
   "cell_type": "code",
   "execution_count": 16,
   "id": "bd67367c",
   "metadata": {},
   "outputs": [],
   "source": [
    "X_train, X_test, Y_train, Y_test = train_test_split(X, Y, test_size=0.2, random_state=2)"
   ]
  },
  {
   "cell_type": "code",
   "execution_count": 17,
   "id": "ba868cc2",
   "metadata": {},
   "outputs": [
    {
     "name": "stdout",
     "output_type": "stream",
     "text": [
      "(1337, 6) (1069, 6) (268, 6)\n"
     ]
    }
   ],
   "source": [
    "print(X.shape, X_train.shape, X_test.shape)"
   ]
  },
  {
   "cell_type": "markdown",
   "id": "f2200173",
   "metadata": {},
   "source": [
    "<h2>loading Model</h2>"
   ]
  },
  {
   "cell_type": "code",
   "execution_count": 18,
   "id": "85a5941b",
   "metadata": {},
   "outputs": [],
   "source": [
    "# loading the Linear Regression model\n",
    "regressor = LinearRegression()"
   ]
  },
  {
   "cell_type": "code",
   "execution_count": 19,
   "id": "9a3cee43",
   "metadata": {},
   "outputs": [
    {
     "data": {
      "text/plain": [
       "LinearRegression()"
      ]
     },
     "execution_count": 19,
     "metadata": {},
     "output_type": "execute_result"
    }
   ],
   "source": [
    "regressor.fit(X_train, Y_train)"
   ]
  },
  {
   "cell_type": "markdown",
   "id": "203e6d3b",
   "metadata": {},
   "source": [
    "<h2>Predicting on test and train data</h2>"
   ]
  },
  {
   "cell_type": "code",
   "execution_count": 20,
   "id": "100680a2",
   "metadata": {},
   "outputs": [],
   "source": [
    "# prediction on training data\n",
    "training_data_prediction =regressor.predict(X_train)"
   ]
  },
  {
   "cell_type": "code",
   "execution_count": 21,
   "id": "4a8e9e0d",
   "metadata": {},
   "outputs": [
    {
     "name": "stdout",
     "output_type": "stream",
     "text": [
      "R squared vale :  0.7583668877375134\n"
     ]
    }
   ],
   "source": [
    "r2_train = metrics.r2_score(Y_train, training_data_prediction)\n",
    "print('R squared vale : ', r2_train*100)"
   ]
  },
  {
   "cell_type": "code",
   "execution_count": 28,
   "id": "f6cadc6e",
   "metadata": {},
   "outputs": [
    {
     "name": "stdout",
     "output_type": "stream",
     "text": [
      "[ 1.29739013e+03  1.15668165e+04  1.00927680e+04  2.41299148e+03\n",
      "  8.10821571e+03  1.11882238e+04  3.13035510e+03  4.86134628e+02\n",
      "  1.30370899e+04  2.92278712e+04  1.14957908e+04  4.99457726e+03\n",
      "  3.06122887e+04  6.38975090e+03  2.70326614e+04  1.38085394e+04\n",
      "  3.61842261e+03  5.71991940e+03  2.99256412e+04  2.06538819e+03\n",
      "  1.22794827e+04  2.31349560e+03  7.97177227e+03  3.17841404e+04\n",
      "  3.62693003e+04  6.55510287e+03  1.79406105e+03  1.55539345e+04\n",
      "  6.50346678e+03  1.77076015e+03  9.65243613e+03  7.73094121e+03\n",
      "  4.69175115e+03  4.13193272e+03  6.96725458e+02  4.60621737e+03\n",
      "  2.98602618e+04  3.41089900e+04  2.69941342e+04  1.44738301e+04\n",
      "  3.27520863e+04  9.64198524e+03  7.62845394e+03  1.46092613e+03\n",
      "  4.96196333e+03  8.12716654e+03  1.24639907e+03  8.26599590e+03\n",
      "  1.08456827e+04  1.37837088e+04  5.80825572e+03  6.05357827e+03\n",
      "  2.91059724e+04  3.68836111e+04  1.39897878e+04  1.78990457e+04\n",
      "  1.38835070e+03  1.13685641e+04  3.30353082e+04  3.43534403e+04\n",
      "  8.84339113e+03  9.30072406e+02  6.72277433e+03  3.62607828e+04\n",
      "  7.67895898e+03  1.38262669e+04  1.48519198e+04  3.62821621e+04\n",
      "  1.34238620e+04  1.08435231e+04  1.17482911e+04  2.99068938e+03\n",
      "  1.00872681e+04  3.01889978e+03 -1.03686451e+03  1.25363461e+04\n",
      "  7.03949344e+03  1.86346667e+04  5.42709773e+03  3.19162531e+03\n",
      "  9.49233423e+03  1.08061188e+04  9.24015744e+03  2.79670971e+04\n",
      " -1.10161853e+01  8.23952045e+03  3.89077930e+04  7.41934379e+03\n",
      "  8.10834939e+03  1.35991451e+04  1.09738971e+04  1.52383766e+04\n",
      "  1.17544220e+04  1.31518747e+04  3.40996730e+04  1.43342511e+04\n",
      "  1.20059757e+04  8.49070519e+03  2.68482616e+03  2.92338390e+04\n",
      "  6.07589233e+03  3.50911208e+03  2.77574311e+04  1.63220354e+04\n",
      "  6.56191139e+03  1.06110718e+04  1.40964548e+03  5.33700290e+03\n",
      "  1.47996936e+04  3.41049197e+04  4.03735665e+03  1.00270085e+04\n",
      "  2.43959628e+04  1.47996865e+04  1.08644671e+04  1.03664016e+04\n",
      "  9.31692236e+03  5.70781965e+03  6.82762615e+03  2.90427400e+04\n",
      "  6.74597978e+03  7.41191333e+03  1.60495056e+04  1.62506679e+04\n",
      "  2.95236213e+04  4.32527708e+03  3.58902000e+04  2.95941866e+04\n",
      "  7.99182549e+03  9.65768381e+03  8.95692893e+03  2.61743234e+03\n",
      "  3.16945483e+03  4.33108177e+03  8.22426501e+03  1.05277463e+04\n",
      "  7.06639164e+03  2.83356944e+04  3.53432195e+04  3.85130057e+03\n",
      "  5.56082103e+03  3.78800141e+03  6.10322920e+03  1.36660725e+04\n",
      "  8.06546498e+03  9.02155458e+03  1.14194261e+04  1.03764958e+04\n",
      "  8.01581803e+03  1.10228592e+04  6.52832852e+03  7.56618063e+03\n",
      "  4.64071943e+03  1.17366633e+04  1.13150198e+04  1.58567034e+04\n",
      "  5.57607648e+03  3.46888827e+04  8.93940578e+03  1.14982582e+04\n",
      "  1.68794423e+04  1.44640787e+04  9.62902033e+03  2.10099721e+03\n",
      "  1.99012952e+03  7.86045503e+03  1.91273279e+04  2.81649441e+04\n",
      "  8.26068922e+03  3.04378009e+03  1.10796673e+04  1.31348775e+04\n",
      "  3.25799481e+04  3.47544010e+04  1.11169520e+04  1.70182161e+04\n",
      "  2.77790840e+03  2.06538819e+03  1.18781497e+04  1.50597079e+03\n",
      "  2.35284765e+03  6.63368920e+02  3.44889240e+04  6.75943354e+03\n",
      "  1.02989425e+04  2.67564408e+04  6.22870981e+03  2.88378939e+03\n",
      "  7.28324901e+03  3.53013179e+04  8.61475668e+03  1.41813592e+04\n",
      "  9.68782993e+03  8.38838712e+03  5.45094916e+03  4.05019417e+04\n",
      "  2.92753947e+04  1.30357183e+04  2.70752306e+04  1.17644458e+04\n",
      "  3.75826199e+04  7.12875053e+03  3.61620128e+03  1.60396591e+03\n",
      "  1.44149752e+04  1.36629436e+04  2.45886034e+04  3.61705950e+04\n",
      "  1.30213932e+04  1.05255090e+04  1.13305650e+03  3.07687349e+04\n",
      "  3.51309090e+03  1.25821525e+04  1.24938751e+04  1.48686903e+04\n",
      "  2.99575653e+04 -2.74674735e+01  3.26063687e+03  6.02936772e+03\n",
      "  3.98199384e+04  8.15302755e+03  3.49992166e+04  2.77087917e+04\n",
      "  1.35249088e+04  2.92879144e+04  1.62837366e+04  8.22369903e+03\n",
      "  1.59711739e+04  7.47242590e+03  1.04701234e+04  3.87941095e+03\n",
      "  4.34878950e+03  1.44100297e+03  3.35246722e+04  3.16151319e+04\n",
      "  3.48453956e+04  1.15182089e+04  5.22389533e+03  6.18921570e+03\n",
      "  1.15026147e+04  5.38179243e+03  1.13667318e+04  1.09127007e+03\n",
      "  1.39268561e+04  3.30123185e+04  1.06642403e+04  2.67073358e+04\n",
      "  1.26676314e+04  1.80962125e+03  1.12722314e+04  3.08500855e+04\n",
      "  7.54745390e+03  1.11656547e+04  1.73297462e+04  5.23620343e+03\n",
      "  1.06503954e+04  3.21391132e+04 -2.47183731e+03  1.75466612e+03\n",
      "  2.79899812e+04  3.38107910e+04  3.74452427e+04 -1.56673760e+03\n",
      "  1.54740787e+04  1.38133523e+04  1.33378570e+04  5.95436253e+03] 17       2395.17155\n",
      "1091    11286.53870\n",
      "273      9617.66245\n",
      "270      1719.43630\n",
      "874      8891.13950\n",
      "           ...     \n",
      "232      1727.78500\n",
      "323     11566.30055\n",
      "1192    13019.16105\n",
      "1066     8978.18510\n",
      "960      2730.10785\n",
      "Name: charges, Length: 268, dtype: float64\n"
     ]
    }
   ],
   "source": [
    "test_data_prediction =regressor.predict(X_test)\n",
    "print(test_data_prediction,Y_test)"
   ]
  },
  {
   "cell_type": "markdown",
   "id": "cf7f99a9",
   "metadata": {},
   "source": [
    "<h2>Modeling Evaluation</h2>"
   ]
  },
  {
   "cell_type": "code",
   "execution_count": 23,
   "id": "3b6d9138",
   "metadata": {},
   "outputs": [
    {
     "name": "stdout",
     "output_type": "stream",
     "text": [
      "R squared vale :  0.7136408620041175\n"
     ]
    }
   ],
   "source": [
    "r2_test = metrics.r2_score(Y_test, test_data_prediction)\n",
    "print('R squared vale : ', r2_test)"
   ]
  },
  {
   "cell_type": "code",
   "execution_count": 29,
   "id": "afeb0b97",
   "metadata": {},
   "outputs": [
    {
     "name": "stdout",
     "output_type": "stream",
     "text": [
      "MAE 4485.263904012667\n"
     ]
    }
   ],
   "source": [
    "from sklearn.metrics import mean_absolute_error\n",
    "print(\"MAE\",mean_absolute_error(Y_test,test_data_prediction))"
   ]
  },
  {
   "cell_type": "code",
   "execution_count": 25,
   "id": "bc6615e2",
   "metadata": {},
   "outputs": [
    {
     "data": {
      "text/plain": [
       "43250819.75071732"
      ]
     },
     "execution_count": 25,
     "metadata": {},
     "output_type": "execute_result"
    }
   ],
   "source": [
    "from sklearn.metrics import mean_squared_error\n",
    "mean_squared_error(Y_test, test_data_prediction)"
   ]
  },
  {
   "cell_type": "markdown",
   "id": "6ab1796a",
   "metadata": {},
   "source": [
    "<h2>Prediction</h2>"
   ]
  },
  {
   "cell_type": "code",
   "execution_count": 30,
   "id": "e8475651",
   "metadata": {},
   "outputs": [
    {
     "name": "stdout",
     "output_type": "stream",
     "text": [
      "[25578.64726941]\n",
      "The insurance cost is USD  25578.64726941098\n"
     ]
    },
    {
     "name": "stderr",
     "output_type": "stream",
     "text": [
      "C:\\Users\\admin\\AppData\\Local\\Programs\\Python\\Python310\\lib\\site-packages\\sklearn\\base.py:450: UserWarning: X does not have valid feature names, but LinearRegression was fitted with feature names\n",
      "  warnings.warn(\n"
     ]
    }
   ],
   "source": [
    "# input_data = (31,1,25.74,0,1,0)\n",
    "input_data = (19,0,27.9,0,1,0)\n",
    "\n",
    "# changing input_data to a numpy array\n",
    "input_data_as_numpy_array = np.asarray(input_data)\n",
    "\n",
    "# reshape the array\n",
    "input_data_reshaped = input_data_as_numpy_array.reshape(1,-1)\n",
    "\n",
    "prediction = regressor.predict(input_data_reshaped)\n",
    "print(prediction)\n",
    "\n",
    "print('The insurance cost is USD ', prediction[0])"
   ]
  },
  {
   "cell_type": "code",
   "execution_count": null,
   "id": "c7099678",
   "metadata": {},
   "outputs": [],
   "source": []
  }
 ],
 "metadata": {
  "kernelspec": {
   "display_name": "Python 3 (ipykernel)",
   "language": "python",
   "name": "python3"
  },
  "language_info": {
   "codemirror_mode": {
    "name": "ipython",
    "version": 3
   },
   "file_extension": ".py",
   "mimetype": "text/x-python",
   "name": "python",
   "nbconvert_exporter": "python",
   "pygments_lexer": "ipython3",
   "version": "3.10.4"
  }
 },
 "nbformat": 4,
 "nbformat_minor": 5
}
